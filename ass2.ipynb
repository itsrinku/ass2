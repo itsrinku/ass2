{
 "cells": [
  {
   "cell_type": "code",
   "execution_count": 1,
   "id": "70f4210b-b317-4174-b4f8-a326e474eece",
   "metadata": {},
   "outputs": [],
   "source": [
    "# ans1\n"
   ]
  },
  {
   "cell_type": "code",
   "execution_count": 2,
   "id": "e547188a-49d0-4187-aac1-c2acaabd4ee1",
   "metadata": {},
   "outputs": [
    {
     "name": "stdin",
     "output_type": "stream",
     "text": [
      "enter the percentage of an  student : 55\n"
     ]
    },
    {
     "name": "stdout",
     "output_type": "stream",
     "text": [
      "Grade D\n"
     ]
    }
   ],
   "source": [
    "percent=int(input(\"enter the percentage of an  student :\"))\n",
    "if percent>90:\n",
    "    print(\"Grade A\")\n",
    "elif percent>80 and percent<=90:\n",
    "    print(\"Grade B\")\n",
    "elif percent >=60 and percent<=80:\n",
    "    print(\"Grade C\")\n",
    "else:\n",
    "    print(\"Grade D\")"
   ]
  },
  {
   "cell_type": "code",
   "execution_count": 3,
   "id": "00eb79f0-41d2-4dae-90cb-90932eb11042",
   "metadata": {},
   "outputs": [],
   "source": [
    "# ans2\n"
   ]
  },
  {
   "cell_type": "code",
   "execution_count": 4,
   "id": "9acc3455-cec1-4d99-9948-06269ac11251",
   "metadata": {},
   "outputs": [
    {
     "name": "stdin",
     "output_type": "stream",
     "text": [
      "enter the cost price of a bike:  50000\n"
     ]
    },
    {
     "name": "stdout",
     "output_type": "stream",
     "text": [
      "road tax is 5%\n"
     ]
    }
   ],
   "source": [
    "cp=int(input(\"enter the cost price of a bike: \"))\n",
    "if cp>100000:\n",
    "    print(\"road tax is 15%\")\n",
    "elif cp>50000 and cp <=100000:\n",
    "    print(\"road tax is 10%\")\n",
    "else:\n",
    "    print(\"road tax is 5%\")"
   ]
  },
  {
   "cell_type": "code",
   "execution_count": 6,
   "id": "5e20e040-e1ec-49d7-bd39-b44f2908a8c1",
   "metadata": {},
   "outputs": [],
   "source": [
    "# ans3"
   ]
  },
  {
   "cell_type": "code",
   "execution_count": 5,
   "id": "b31a30cb-7a74-4aa9-9937-0f628d57da19",
   "metadata": {},
   "outputs": [
    {
     "name": "stdin",
     "output_type": "stream",
     "text": [
      "enter the city name :  jaipur\n"
     ]
    },
    {
     "name": "stdout",
     "output_type": "stream",
     "text": [
      "Jal Mahal\n"
     ]
    }
   ],
   "source": [
    "city=input(\"enter the city name : \")\n",
    "if city==\"delhi\":\n",
    "    print(\"Red Fort\")\n",
    "if city==\"agra\":\n",
    "    print(\"Taj Mahal\")\n",
    "if city==\"jaipur\":\n",
    "    print(\"Jal Mahal\")\n",
    "    \n",
    "    "
   ]
  },
  {
   "cell_type": "code",
   "execution_count": 7,
   "id": "78c4e3b6-7db4-464f-b210-c44fc4d0af2f",
   "metadata": {},
   "outputs": [],
   "source": [
    "#ans4"
   ]
  },
  {
   "cell_type": "code",
   "execution_count": 1,
   "id": "c73e2fc8-b966-43fa-acd0-084d8bb08c7a",
   "metadata": {},
   "outputs": [
    {
     "name": "stdin",
     "output_type": "stream",
     "text": [
      "enter the number: 60\n"
     ]
    },
    {
     "name": "stdout",
     "output_type": "stream",
     "text": [
      "2\n"
     ]
    }
   ],
   "source": [
    "n=float(input(\"enter the number:\"))\n",
    "i=0\n",
    "while n>=10:\n",
    "    n/=3\n",
    "    i=i+1\n",
    "print(i)    \n",
    "    \n",
    "    "
   ]
  },
  {
   "cell_type": "code",
   "execution_count": 2,
   "id": "d1510cc1-8991-411e-bec5-78dc4e372055",
   "metadata": {},
   "outputs": [],
   "source": [
    "#ans5"
   ]
  },
  {
   "cell_type": "code",
   "execution_count": 3,
   "id": "8844ce79-02d3-4b96-8e00-deff775aeacf",
   "metadata": {},
   "outputs": [
    {
     "data": {
      "text/plain": [
       "'   A while loop will run a piece of code\\n   while a condition is True.\\n   It will keep executing the desired \\n   set of code statements until that\\n   condition is no longer True.\\n   A while loop will always first\\n   check the condition before running.'"
      ]
     },
     "execution_count": 3,
     "metadata": {},
     "output_type": "execute_result"
    }
   ],
   "source": [
    " '''   A while loop will run a piece of code\n",
    "    while a condition is True.\n",
    "    It will keep executing the desired \n",
    "    set of code statements until that\n",
    "    condition is no longer True.\n",
    "    A while loop will always first\n",
    "    check the condition before running.'''"
   ]
  },
  {
   "cell_type": "code",
   "execution_count": 4,
   "id": "964f43f9-2a21-43f5-b455-aea356ce6b9b",
   "metadata": {},
   "outputs": [],
   "source": [
    "#ans 6"
   ]
  },
  {
   "cell_type": "code",
   "execution_count": 12,
   "id": "b59bfebb-bbba-4b70-82c9-1f9d8587dedf",
   "metadata": {},
   "outputs": [
    {
     "name": "stdin",
     "output_type": "stream",
     "text": [
      "enter the value of n:  5\n"
     ]
    },
    {
     "name": "stdout",
     "output_type": "stream",
     "text": [
      "*\n",
      "\n",
      "**\n",
      "\n",
      "***\n",
      "\n",
      "****\n",
      "\n",
      "*****\n",
      "\n"
     ]
    }
   ],
   "source": [
    "n=int(input(\"enter the value of n: \"))\n",
    "i=1\n",
    "while i<=n:\n",
    "    j=1\n",
    "    while j<=i:\n",
    "        print(\"*\" , end=\"\")\n",
    "        j+=1 \n",
    "    print(\"\\n\")    \n",
    "    i+=1\n",
    "    "
   ]
  },
  {
   "cell_type": "code",
   "execution_count": 13,
   "id": "d5d2285b-a40e-4ead-bf75-7897a5ec7d44",
   "metadata": {},
   "outputs": [],
   "source": [
    "# ans 7\n"
   ]
  },
  {
   "cell_type": "code",
   "execution_count": 14,
   "id": "cf622503-a26f-45d7-b8bc-11d723a2aae2",
   "metadata": {},
   "outputs": [
    {
     "name": "stdout",
     "output_type": "stream",
     "text": [
      "10\n",
      "9\n",
      "8\n",
      "7\n",
      "6\n",
      "5\n",
      "4\n",
      "3\n",
      "2\n",
      "1\n"
     ]
    }
   ],
   "source": [
    "n=10\n",
    "while n>=1:\n",
    "    print(n,\"end)\n",
    "    n-=1\n",
    "    "
   ]
  },
  {
   "cell_type": "code",
   "execution_count": null,
   "id": "0eb91dc4-952d-4079-be48-8d6aa677ee58",
   "metadata": {},
   "outputs": [],
   "source": []
  }
 ],
 "metadata": {
  "kernelspec": {
   "display_name": "Python 3 (ipykernel)",
   "language": "python",
   "name": "python3"
  },
  "language_info": {
   "codemirror_mode": {
    "name": "ipython",
    "version": 3
   },
   "file_extension": ".py",
   "mimetype": "text/x-python",
   "name": "python",
   "nbconvert_exporter": "python",
   "pygments_lexer": "ipython3",
   "version": "3.10.6"
  }
 },
 "nbformat": 4,
 "nbformat_minor": 5
}
